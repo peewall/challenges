{
 "cells": [
  {
   "cell_type": "markdown",
   "metadata": {},
   "source": [
    "## Diveplane Coding Challenge\n",
    "### Elapsed Time: 1 hour, 45 minutes"
   ]
  },
  {
   "cell_type": "code",
   "execution_count": 52,
   "metadata": {},
   "outputs": [],
   "source": [
    "import random \n",
    "import numpy as np\n",
    "import matplotlib as plt\n",
    "# function for testing, to generate a dictionary of 1k random numbers to be used as input\n",
    "def generateRandomDistro(size):\n",
    "    i = 0\n",
    "    inputDict = {}\n",
    "    # dirichlet distro. creates 0-1 sum to 1 distro.\n",
    "    probs = np.random.dirichlet(np.ones(size),size=1).tolist()[0]\n",
    "    while (i < size):\n",
    "        # associate number with probability\n",
    "        inputDict[i] = probs[i]\n",
    "        i += 1\n",
    "    return inputDict\n",
    "\n",
    "# create a prefixSum of all probabilities, will sum to 1\n",
    "def prefixSum(inputDict):\n",
    "    i = 0\n",
    "    prefixSumList = []\n",
    "    for i in range(0, len(inputDict)):\n",
    "        if(i > 0):\n",
    "            prefixSumList.append(prefixSumList[i-1] + inputDict[i])\n",
    "            i += 1\n",
    "         # establish first element\n",
    "        else:\n",
    "            prefixSumList.append(inputDict[i])\n",
    "            i += 1\n",
    "    return prefixSumList\n",
    "def getCeilIndex(prefixSumList):\n",
    "    # generate a random no. from 0 - 1\n",
    "    randomProb = random.random()\n",
    "    # if random is lower than first item in prefixSum, return first item index\n",
    "    if randomProb <= prefixSumList[0]:\n",
    "        return 0\n",
    "    # else, search through \n",
    "    i = 0\n",
    "    # if an exact match, return i index\n",
    "    for i in range(0, len(prefixSumList)):\n",
    "        if prefixSumList[i] == randomProb:\n",
    "            return i\n",
    "        # if between i and i+1 return the i+1 index\n",
    "        if prefixSumList[i] < randomProb and prefixSumList[i+1] >= randomProb:\n",
    "            return i+1\n",
    "def getRandom(index, inputDict):\n",
    "    return list(inputDict.keys())[index]\n",
    "def plotDistribution(inputDict, prefixSumList):\n",
    "    xAxis = []\n",
    "    for _ in range(10000):\n",
    "        indexFromInput = getCeilIndex(prefixSumList)\n",
    "        xAxis.append(getRandom(indexFromInput, inputDict))\n",
    "    plt.pyplot.hist(xAxis, bins = range(0, len(inputDict), 5), color='green', label='Probability Distribution')\n"
   ]
  },
  {
   "cell_type": "code",
   "execution_count": 53,
   "metadata": {},
   "outputs": [],
   "source": [
    "# for proof of distributions\n",
    "def testDriver():\n",
    "    inputDict = generateRandomDistro(100)\n",
    "    prefixSumList = prefixSum(inputDict)\n",
    "    plotDistribution(inputDict, prefixSumList)"
   ]
  },
  {
   "cell_type": "code",
   "execution_count": 54,
   "metadata": {},
   "outputs": [
    {
     "data": {
      "image/png": "[encoded data removed]",
      "text/plain": [
       "<Figure size 432x288 with 1 Axes>"
      ]
     },
     "metadata": {},
     "output_type": "display_data"
    }
   ],
   "source": [
    "testDriver()"
   ]
  }
 ],
 "metadata": {
  "kernelspec": {
   "display_name": "Python 3",
   "language": "python",
   "name": "python3"
  },
  "language_info": {
   "codemirror_mode": {
    "name": "ipython",
    "version": 3
   },
   "file_extension": ".py",
   "mimetype": "text/x-python",
   "name": "python",
   "nbconvert_exporter": "python",
   "pygments_lexer": "ipython3",
   "version": "3.7.0"
  }
 },
 "nbformat": 4,
 "nbformat_minor": 2
}
